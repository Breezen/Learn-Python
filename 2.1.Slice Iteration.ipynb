{
 "cells": [
  {
   "cell_type": "markdown",
   "metadata": {},
   "source": [
    "# Slice"
   ]
  },
  {
   "cell_type": "code",
   "execution_count": 1,
   "metadata": {
    "collapsed": false
   },
   "outputs": [
    {
     "name": "stdout",
     "output_type": "stream",
     "text": [
      "[1, 3, 5, 7, 9]\n",
      "[90, 93, 96, 99]\n"
     ]
    }
   ],
   "source": [
    "l = range(100)\n",
    "print(list(l[1:10:2]))\n",
    "print(list(l[-10::3]))"
   ]
  },
  {
   "cell_type": "markdown",
   "metadata": {},
   "source": [
    "# Iteration"
   ]
  },
  {
   "cell_type": "code",
   "execution_count": 2,
   "metadata": {
    "collapsed": false
   },
   "outputs": [
    {
     "name": "stdout",
     "output_type": "stream",
     "text": [
      "age\n",
      "name\n",
      "23\n",
      "Sean\n",
      "age 23\n",
      "name Sean\n"
     ]
    }
   ],
   "source": [
    "# dict\n",
    "d = {\"name\": \"Sean\", \"age\": 23}\n",
    "for key in d.keys():\n",
    "    print(key)\n",
    "for value in d.values():\n",
    "    print(value)\n",
    "for key, value in d.items():\n",
    "    print(key, value)"
   ]
  },
  {
   "cell_type": "code",
   "execution_count": 3,
   "metadata": {
    "collapsed": false
   },
   "outputs": [
    {
     "name": "stdout",
     "output_type": "stream",
     "text": [
      "1 1\n",
      "2 3\n",
      "5 8\n",
      "0 : (1, 1)\n",
      "1 : (2, 3)\n",
      "2 : (5, 8)\n"
     ]
    }
   ],
   "source": [
    "# list\n",
    "l = [(1,1), (2,3), (5,8)]\n",
    "for x, y in l:\n",
    "    print(x, y)\n",
    "\n",
    "for i, pos in enumerate(l):\n",
    "    print(i, \":\", pos)"
   ]
  },
  {
   "cell_type": "code",
   "execution_count": null,
   "metadata": {
    "collapsed": true
   },
   "outputs": [],
   "source": []
  }
 ],
 "metadata": {
  "anaconda-cloud": {},
  "kernelspec": {
   "display_name": "Python [conda env:python3]",
   "language": "python",
   "name": "conda-env-python3-py"
  },
  "language_info": {
   "codemirror_mode": {
    "name": "ipython",
    "version": 3
   },
   "file_extension": ".py",
   "mimetype": "text/x-python",
   "name": "python",
   "nbconvert_exporter": "python",
   "pygments_lexer": "ipython3",
   "version": "3.5.2"
  }
 },
 "nbformat": 4,
 "nbformat_minor": 1
}
