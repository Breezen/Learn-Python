{
 "cells": [
  {
   "cell_type": "code",
   "execution_count": 14,
   "metadata": {
    "collapsed": false
   },
   "outputs": [
    {
     "name": "stdout",
     "output_type": "stream",
     "text": [
      "wrapper\n",
      "call now():\n",
      "2016-11-08\n"
     ]
    }
   ],
   "source": [
    "def log(func):\n",
    "    def wrapper(*args, **kw):\n",
    "        print('call %s():' % func.__name__)\n",
    "        return func(*args, **kw)\n",
    "    return wrapper\n",
    "\n",
    "@log\n",
    "def now():\n",
    "    print('2016-11-08')\n",
    "\n",
    "print(now.__name__)\n",
    "now()"
   ]
  },
  {
   "cell_type": "code",
   "execution_count": 5,
   "metadata": {
    "collapsed": false
   },
   "outputs": [
    {
     "name": "stdout",
     "output_type": "stream",
     "text": [
      "wrapper\n",
      "execute now():\n",
      "2016-11-07\n"
     ]
    }
   ],
   "source": [
    "def log(text):\n",
    "    def decorator(func):\n",
    "        def wrapper(*args, **kw):\n",
    "            print('%s %s():' % (text, func.__name__))\n",
    "            return func(*args, **kw)\n",
    "        return wrapper\n",
    "    return decorator\n",
    "\n",
    "@log('execute')\n",
    "def now():\n",
    "    print('2016-11-07')\n",
    "\n",
    "print(now.__name__)\n",
    "now()"
   ]
  },
  {
   "cell_type": "code",
   "execution_count": 13,
   "metadata": {
    "collapsed": false
   },
   "outputs": [
    {
     "name": "stdout",
     "output_type": "stream",
     "text": [
      "now\n",
      "call now():\n",
      "2016-11-07\n"
     ]
    }
   ],
   "source": [
    "import functools\n",
    "\n",
    "def log(func):\n",
    "    @functools.wraps(func)\n",
    "    def wrapper(*args, **kw):\n",
    "        print('call %s():' % func.__name__)\n",
    "        return func(*args, **kw)\n",
    "    return wrapper\n",
    "\n",
    "@log\n",
    "def now():\n",
    "    print('2016-11-07')\n",
    "\n",
    "print(now.__name__)\n",
    "now()"
   ]
  },
  {
   "cell_type": "code",
   "execution_count": 15,
   "metadata": {
    "collapsed": false
   },
   "outputs": [
    {
     "name": "stdout",
     "output_type": "stream",
     "text": [
      "now\n",
      "execute now():\n",
      "2016-11-07\n"
     ]
    }
   ],
   "source": [
    "import functools\n",
    "\n",
    "def log(text):\n",
    "    def decorator(func):\n",
    "        @functools.wraps(func)\n",
    "        def wrapper(*args, **kw):\n",
    "            print('%s %s():' % (text, func.__name__))\n",
    "            return func(*args, **kw)\n",
    "        return wrapper\n",
    "    return decorator\n",
    "\n",
    "@log('execute')\n",
    "def now():\n",
    "    print('2016-11-07')\n",
    "\n",
    "print(now.__name__)\n",
    "now()"
   ]
  },
  {
   "cell_type": "code",
   "execution_count": 20,
   "metadata": {
    "collapsed": false
   },
   "outputs": [
    {
     "name": "stdout",
     "output_type": "stream",
     "text": [
      "now\n",
      "begin\n",
      "2016-11-07\n",
      "end\n"
     ]
    }
   ],
   "source": [
    "# Exercise 1\n",
    "import functools\n",
    "\n",
    "def beginend(func):\n",
    "    @functools.wraps(func)\n",
    "    def wrapper(*args, **kw):\n",
    "        print(\"begin\")\n",
    "        res = func(*args, **kw)\n",
    "        print(\"end\")\n",
    "        return res\n",
    "    return wrapper\n",
    "\n",
    "@beginend\n",
    "def now():\n",
    "    print('2016-11-07')\n",
    "\n",
    "print(now.__name__)\n",
    "now()"
   ]
  },
  {
   "cell_type": "code",
   "execution_count": 5,
   "metadata": {
    "collapsed": false
   },
   "outputs": [
    {
     "name": "stdout",
     "output_type": "stream",
     "text": [
      "now\n",
      "call now():\n",
      "2016-11-07\n",
      "now\n",
      "haha now():\n",
      "2016-11-07\n"
     ]
    }
   ],
   "source": [
    "import functools\n",
    "\n",
    "def log(text = None):\n",
    "    if isinstance(text, str):\n",
    "        def decorator(func):\n",
    "            @functools.wraps(func)\n",
    "            def wrapper(*args, **kw):\n",
    "                print('%s %s():' % (text, func.__name__))\n",
    "                return func(*args, **kw)\n",
    "            return wrapper\n",
    "        return decorator\n",
    "    else:\n",
    "        @functools.wraps(text)\n",
    "        def wrapper(*args, **kw):\n",
    "            print('call %s():' % text.__name__)\n",
    "            return text(*args, **kw)\n",
    "        return wrapper\n",
    "\n",
    "\n",
    "@log\n",
    "def now():\n",
    "    print('2016-11-07')\n",
    "\n",
    "print(now.__name__)\n",
    "now()\n",
    "\n",
    "@log(\"haha\")\n",
    "def now():\n",
    "    print('2016-11-07')\n",
    "\n",
    "print(now.__name__)\n",
    "now()"
   ]
  },
  {
   "cell_type": "code",
   "execution_count": null,
   "metadata": {
    "collapsed": true
   },
   "outputs": [],
   "source": []
  }
 ],
 "metadata": {
  "anaconda-cloud": {},
  "kernelspec": {
   "display_name": "Python [conda env:python3]",
   "language": "python",
   "name": "conda-env-python3-py"
  },
  "language_info": {
   "codemirror_mode": {
    "name": "ipython",
    "version": 3
   },
   "file_extension": ".py",
   "mimetype": "text/x-python",
   "name": "python",
   "nbconvert_exporter": "python",
   "pygments_lexer": "ipython3",
   "version": "3.5.2"
  }
 },
 "nbformat": 4,
 "nbformat_minor": 1
}
