{
 "cells": [
  {
   "cell_type": "code",
   "execution_count": 1,
   "metadata": {
    "collapsed": false
   },
   "outputs": [
    {
     "name": "stdout",
     "output_type": "stream",
     "text": [
      "True\n",
      "True\n",
      "True\n",
      "True\n",
      "False\n"
     ]
    }
   ],
   "source": [
    "# use type\n",
    "print(type(123)==type(456))\n",
    "print(type(123)==int)\n",
    "print(type('abc')==type('123'))\n",
    "print(type('abc')==str)\n",
    "print(type('abc')==type(123))"
   ]
  },
  {
   "cell_type": "code",
   "execution_count": 2,
   "metadata": {
    "collapsed": false
   },
   "outputs": [
    {
     "name": "stdout",
     "output_type": "stream",
     "text": [
      "True\n",
      "True\n",
      "True\n",
      "True\n"
     ]
    }
   ],
   "source": [
    "# use types module\n",
    "import types\n",
    "\n",
    "def fn():\n",
    "    pass\n",
    "\n",
    "print(type(fn)==types.FunctionType)\n",
    "print(type(abs)==types.BuiltinFunctionType)\n",
    "print(type(lambda x: x)==types.LambdaType)\n",
    "print(type((x for x in range(10)))==types.GeneratorType)"
   ]
  },
  {
   "cell_type": "code",
   "execution_count": 3,
   "metadata": {
    "collapsed": false
   },
   "outputs": [
    {
     "name": "stdout",
     "output_type": "stream",
     "text": [
      "True\n",
      "True\n",
      "True\n",
      "True\n",
      "True\n",
      "True\n",
      "True\n",
      "True\n"
     ]
    }
   ],
   "source": [
    "# use isinstance\n",
    "\n",
    "print(isinstance('a', str))\n",
    "print(isinstance(123, int))\n",
    "print(isinstance(b'a', bytes))\n",
    "# whether is list or tuple\n",
    "print(isinstance([1, 2, 3], (list, tuple)))\n",
    "print(isinstance((1, 2, 3), (list, tuple)))\n",
    "\n",
    "class Animal():\n",
    "    pass\n",
    "class Dog(Animal):\n",
    "    pass\n",
    "class Husky(Dog):\n",
    "    pass\n",
    "\n",
    "bug = Husky()\n",
    "print(isinstance(bug, Husky))\n",
    "print(isinstance(bug, Dog))\n",
    "print(isinstance(bug, Animal))"
   ]
  },
  {
   "cell_type": "code",
   "execution_count": 5,
   "metadata": {
    "collapsed": false
   },
   "outputs": [
    {
     "name": "stdout",
     "output_type": "stream",
     "text": [
      "['__add__', '__class__', '__contains__', '__delattr__', '__dir__', '__doc__', '__eq__', '__format__', '__ge__', '__getattribute__', '__getitem__', '__getnewargs__', '__gt__', '__hash__', '__init__', '__iter__', '__le__', '__len__', '__lt__', '__mod__', '__mul__', '__ne__', '__new__', '__reduce__', '__reduce_ex__', '__repr__', '__rmod__', '__rmul__', '__setattr__', '__sizeof__', '__str__', '__subclasshook__', 'capitalize', 'casefold', 'center', 'count', 'encode', 'endswith', 'expandtabs', 'find', 'format', 'format_map', 'index', 'isalnum', 'isalpha', 'isdecimal', 'isdigit', 'isidentifier', 'islower', 'isnumeric', 'isprintable', 'isspace', 'istitle', 'isupper', 'join', 'ljust', 'lower', 'lstrip', 'maketrans', 'partition', 'replace', 'rfind', 'rindex', 'rjust', 'rpartition', 'rsplit', 'rstrip', 'split', 'splitlines', 'startswith', 'strip', 'swapcase', 'title', 'translate', 'upper', 'zfill']\n"
     ]
    }
   ],
   "source": [
    "# use dir\n",
    "print(dir(\"ABC\"))"
   ]
  },
  {
   "cell_type": "code",
   "execution_count": 6,
   "metadata": {
    "collapsed": false
   },
   "outputs": [
    {
     "name": "stdout",
     "output_type": "stream",
     "text": [
      "hasattr(obj, 'x') = True\n",
      "hasattr(obj, 'y') = False\n",
      "hasattr(obj, 'y') = True\n",
      "getattr(obj, 'y') = 19\n",
      "obj.y = 19\n",
      "getattr(obj, 'z') = 404\n",
      "<bound method MyObject.power of <__main__.MyObject object at 0x10484b710>>\n",
      "81\n"
     ]
    }
   ],
   "source": [
    "#!/usr/bin/env python3\n",
    "# -*- coding: utf-8 -*-\n",
    "\n",
    "class MyObject(object):\n",
    "\n",
    "    def __init__(self):\n",
    "        self.x = 9\n",
    "\n",
    "    def power(self):\n",
    "        return self.x * self.x\n",
    "\n",
    "obj = MyObject()\n",
    "\n",
    "print('hasattr(obj, \\'x\\') =', hasattr(obj, 'x')) # 有属性'x'吗？\n",
    "print('hasattr(obj, \\'y\\') =', hasattr(obj, 'y')) # 有属性'y'吗？\n",
    "setattr(obj, 'y', 19) # 设置一个属性'y'\n",
    "print('hasattr(obj, \\'y\\') =', hasattr(obj, 'y')) # 有属性'y'吗？\n",
    "print('getattr(obj, \\'y\\') =', getattr(obj, 'y')) # 获取属性'y'\n",
    "print('obj.y =', obj.y) # 获取属性'y'\n",
    "\n",
    "print('getattr(obj, \\'z\\') =',getattr(obj, 'z', 404)) # 获取属性'z'，如果不存在，返回默认值404\n",
    "\n",
    "f = getattr(obj, 'power') # 获取属性'power'\n",
    "print(f)\n",
    "print(f())"
   ]
  },
  {
   "cell_type": "code",
   "execution_count": null,
   "metadata": {
    "collapsed": true
   },
   "outputs": [],
   "source": []
  }
 ],
 "metadata": {
  "anaconda-cloud": {},
  "kernelspec": {
   "display_name": "Python [conda env:python3]",
   "language": "python",
   "name": "conda-env-python3-py"
  },
  "language_info": {
   "codemirror_mode": {
    "name": "ipython",
    "version": 3
   },
   "file_extension": ".py",
   "mimetype": "text/x-python",
   "name": "python",
   "nbconvert_exporter": "python",
   "pygments_lexer": "ipython3",
   "version": "3.5.2"
  }
 },
 "nbformat": 4,
 "nbformat_minor": 1
}
